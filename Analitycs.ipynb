{
 "cells": [
  {
   "cell_type": "code",
   "execution_count": 1,
   "id": "a94a52cd",
   "metadata": {},
   "outputs": [],
   "source": [
    "import pandas as pd\n",
    "import numpy as np\n",
    "import matplotlib as mpl\n",
    "import matplotlib.pyplot as plt"
   ]
  },
  {
   "cell_type": "code",
   "execution_count": 3,
   "id": "2360daa4",
   "metadata": {},
   "outputs": [],
   "source": [
    "fixed = pd.read_csv('../CRIPTO/Datasets/continuacionA.csv')"
   ]
  },
  {
   "cell_type": "code",
   "execution_count": 4,
   "id": "144fa95b",
   "metadata": {},
   "outputs": [
    {
     "data": {
      "text/html": [
       "<div>\n",
       "<style scoped>\n",
       "    .dataframe tbody tr th:only-of-type {\n",
       "        vertical-align: middle;\n",
       "    }\n",
       "\n",
       "    .dataframe tbody tr th {\n",
       "        vertical-align: top;\n",
       "    }\n",
       "\n",
       "    .dataframe thead th {\n",
       "        text-align: right;\n",
       "    }\n",
       "</style>\n",
       "<table border=\"1\" class=\"dataframe\">\n",
       "  <thead>\n",
       "    <tr style=\"text-align: right;\">\n",
       "      <th></th>\n",
       "      <th>Date</th>\n",
       "      <th>(BTC)Open</th>\n",
       "      <th>(BTC)High</th>\n",
       "      <th>(BTC)Low</th>\n",
       "      <th>(BTC)Close</th>\n",
       "      <th>(BTC)Adj Close</th>\n",
       "      <th>(BTC)Volume</th>\n",
       "      <th>(ETH)Open</th>\n",
       "      <th>(ETH)High</th>\n",
       "      <th>(ETH)Low</th>\n",
       "      <th>...</th>\n",
       "      <th>(LINK)Low</th>\n",
       "      <th>(LINK)Close</th>\n",
       "      <th>(LINK)Adj Close</th>\n",
       "      <th>(LINK)Volume</th>\n",
       "      <th>(AVAX)Open</th>\n",
       "      <th>(AVAX)High</th>\n",
       "      <th>(AVAX)Low</th>\n",
       "      <th>(AVAX)Close</th>\n",
       "      <th>(AVAX)Adj Close</th>\n",
       "      <th>(AVAX)Volume</th>\n",
       "    </tr>\n",
       "  </thead>\n",
       "  <tbody>\n",
       "    <tr>\n",
       "      <th>0</th>\n",
       "      <td>2024-01-01</td>\n",
       "      <td>42280.234375</td>\n",
       "      <td>44175.437500</td>\n",
       "      <td>42214.976562</td>\n",
       "      <td>44167.332031</td>\n",
       "      <td>44167.332031</td>\n",
       "      <td>18426978443</td>\n",
       "      <td>42280.234375</td>\n",
       "      <td>44175.437500</td>\n",
       "      <td>42214.976562</td>\n",
       "      <td>...</td>\n",
       "      <td>42214.976562</td>\n",
       "      <td>44167.332031</td>\n",
       "      <td>44167.332031</td>\n",
       "      <td>18426978443</td>\n",
       "      <td>42280.234375</td>\n",
       "      <td>44175.437500</td>\n",
       "      <td>42214.976562</td>\n",
       "      <td>44167.332031</td>\n",
       "      <td>44167.332031</td>\n",
       "      <td>18426978443</td>\n",
       "    </tr>\n",
       "    <tr>\n",
       "      <th>1</th>\n",
       "      <td>2024-01-02</td>\n",
       "      <td>44187.140625</td>\n",
       "      <td>45899.707031</td>\n",
       "      <td>44176.949219</td>\n",
       "      <td>44957.968750</td>\n",
       "      <td>44957.968750</td>\n",
       "      <td>39335274536</td>\n",
       "      <td>44187.140625</td>\n",
       "      <td>45899.707031</td>\n",
       "      <td>44176.949219</td>\n",
       "      <td>...</td>\n",
       "      <td>44176.949219</td>\n",
       "      <td>44957.968750</td>\n",
       "      <td>44957.968750</td>\n",
       "      <td>39335274536</td>\n",
       "      <td>44187.140625</td>\n",
       "      <td>45899.707031</td>\n",
       "      <td>44176.949219</td>\n",
       "      <td>44957.968750</td>\n",
       "      <td>44957.968750</td>\n",
       "      <td>39335274536</td>\n",
       "    </tr>\n",
       "    <tr>\n",
       "      <th>2</th>\n",
       "      <td>2024-01-03</td>\n",
       "      <td>44961.601562</td>\n",
       "      <td>45503.242188</td>\n",
       "      <td>40813.535156</td>\n",
       "      <td>42848.175781</td>\n",
       "      <td>42848.175781</td>\n",
       "      <td>46342323118</td>\n",
       "      <td>44961.601562</td>\n",
       "      <td>45503.242188</td>\n",
       "      <td>40813.535156</td>\n",
       "      <td>...</td>\n",
       "      <td>40813.535156</td>\n",
       "      <td>42848.175781</td>\n",
       "      <td>42848.175781</td>\n",
       "      <td>46342323118</td>\n",
       "      <td>44961.601562</td>\n",
       "      <td>45503.242188</td>\n",
       "      <td>40813.535156</td>\n",
       "      <td>42848.175781</td>\n",
       "      <td>42848.175781</td>\n",
       "      <td>46342323118</td>\n",
       "    </tr>\n",
       "    <tr>\n",
       "      <th>3</th>\n",
       "      <td>2024-01-04</td>\n",
       "      <td>42855.816406</td>\n",
       "      <td>44770.023438</td>\n",
       "      <td>42675.175781</td>\n",
       "      <td>44179.921875</td>\n",
       "      <td>44179.921875</td>\n",
       "      <td>30448091210</td>\n",
       "      <td>42855.816406</td>\n",
       "      <td>44770.023438</td>\n",
       "      <td>42675.175781</td>\n",
       "      <td>...</td>\n",
       "      <td>42675.175781</td>\n",
       "      <td>44179.921875</td>\n",
       "      <td>44179.921875</td>\n",
       "      <td>30448091210</td>\n",
       "      <td>42855.816406</td>\n",
       "      <td>44770.023438</td>\n",
       "      <td>42675.175781</td>\n",
       "      <td>44179.921875</td>\n",
       "      <td>44179.921875</td>\n",
       "      <td>30448091210</td>\n",
       "    </tr>\n",
       "    <tr>\n",
       "      <th>4</th>\n",
       "      <td>2024-01-05</td>\n",
       "      <td>44192.980469</td>\n",
       "      <td>44353.285156</td>\n",
       "      <td>42784.718750</td>\n",
       "      <td>44162.691406</td>\n",
       "      <td>44162.691406</td>\n",
       "      <td>32336029347</td>\n",
       "      <td>44192.980469</td>\n",
       "      <td>44353.285156</td>\n",
       "      <td>42784.718750</td>\n",
       "      <td>...</td>\n",
       "      <td>42784.718750</td>\n",
       "      <td>44162.691406</td>\n",
       "      <td>44162.691406</td>\n",
       "      <td>32336029347</td>\n",
       "      <td>44192.980469</td>\n",
       "      <td>44353.285156</td>\n",
       "      <td>42784.718750</td>\n",
       "      <td>44162.691406</td>\n",
       "      <td>44162.691406</td>\n",
       "      <td>32336029347</td>\n",
       "    </tr>\n",
       "    <tr>\n",
       "      <th>...</th>\n",
       "      <td>...</td>\n",
       "      <td>...</td>\n",
       "      <td>...</td>\n",
       "      <td>...</td>\n",
       "      <td>...</td>\n",
       "      <td>...</td>\n",
       "      <td>...</td>\n",
       "      <td>...</td>\n",
       "      <td>...</td>\n",
       "      <td>...</td>\n",
       "      <td>...</td>\n",
       "      <td>...</td>\n",
       "      <td>...</td>\n",
       "      <td>...</td>\n",
       "      <td>...</td>\n",
       "      <td>...</td>\n",
       "      <td>...</td>\n",
       "      <td>...</td>\n",
       "      <td>...</td>\n",
       "      <td>...</td>\n",
       "      <td>...</td>\n",
       "    </tr>\n",
       "    <tr>\n",
       "      <th>223</th>\n",
       "      <td>2024-08-11</td>\n",
       "      <td>60944.890625</td>\n",
       "      <td>61778.660156</td>\n",
       "      <td>58348.824219</td>\n",
       "      <td>58719.484375</td>\n",
       "      <td>58719.484375</td>\n",
       "      <td>22759754812</td>\n",
       "      <td>60944.890625</td>\n",
       "      <td>61778.660156</td>\n",
       "      <td>58348.824219</td>\n",
       "      <td>...</td>\n",
       "      <td>58348.824219</td>\n",
       "      <td>58719.484375</td>\n",
       "      <td>58719.484375</td>\n",
       "      <td>22759754812</td>\n",
       "      <td>60944.890625</td>\n",
       "      <td>61778.660156</td>\n",
       "      <td>58348.824219</td>\n",
       "      <td>58719.484375</td>\n",
       "      <td>58719.484375</td>\n",
       "      <td>22759754812</td>\n",
       "    </tr>\n",
       "    <tr>\n",
       "      <th>224</th>\n",
       "      <td>2024-08-12</td>\n",
       "      <td>58719.394531</td>\n",
       "      <td>60680.332031</td>\n",
       "      <td>57688.898438</td>\n",
       "      <td>59354.515625</td>\n",
       "      <td>59354.515625</td>\n",
       "      <td>37078637820</td>\n",
       "      <td>58719.394531</td>\n",
       "      <td>60680.332031</td>\n",
       "      <td>57688.898438</td>\n",
       "      <td>...</td>\n",
       "      <td>57688.898438</td>\n",
       "      <td>59354.515625</td>\n",
       "      <td>59354.515625</td>\n",
       "      <td>37078637820</td>\n",
       "      <td>58719.394531</td>\n",
       "      <td>60680.332031</td>\n",
       "      <td>57688.898438</td>\n",
       "      <td>59354.515625</td>\n",
       "      <td>59354.515625</td>\n",
       "      <td>37078637820</td>\n",
       "    </tr>\n",
       "    <tr>\n",
       "      <th>225</th>\n",
       "      <td>2024-08-13</td>\n",
       "      <td>59356.207031</td>\n",
       "      <td>61572.398438</td>\n",
       "      <td>58506.253906</td>\n",
       "      <td>60609.566406</td>\n",
       "      <td>60609.566406</td>\n",
       "      <td>30327698167</td>\n",
       "      <td>59356.207031</td>\n",
       "      <td>61572.398438</td>\n",
       "      <td>58506.253906</td>\n",
       "      <td>...</td>\n",
       "      <td>58506.253906</td>\n",
       "      <td>60609.566406</td>\n",
       "      <td>60609.566406</td>\n",
       "      <td>30327698167</td>\n",
       "      <td>59356.207031</td>\n",
       "      <td>61572.398438</td>\n",
       "      <td>58506.253906</td>\n",
       "      <td>60609.566406</td>\n",
       "      <td>60609.566406</td>\n",
       "      <td>30327698167</td>\n",
       "    </tr>\n",
       "    <tr>\n",
       "      <th>226</th>\n",
       "      <td>2024-08-14</td>\n",
       "      <td>60611.050781</td>\n",
       "      <td>61687.757812</td>\n",
       "      <td>58472.875000</td>\n",
       "      <td>58737.269531</td>\n",
       "      <td>58737.269531</td>\n",
       "      <td>29961696180</td>\n",
       "      <td>60611.050781</td>\n",
       "      <td>61687.757812</td>\n",
       "      <td>58472.875000</td>\n",
       "      <td>...</td>\n",
       "      <td>58472.875000</td>\n",
       "      <td>58737.269531</td>\n",
       "      <td>58737.269531</td>\n",
       "      <td>29961696180</td>\n",
       "      <td>60611.050781</td>\n",
       "      <td>61687.757812</td>\n",
       "      <td>58472.875000</td>\n",
       "      <td>58737.269531</td>\n",
       "      <td>58737.269531</td>\n",
       "      <td>29961696180</td>\n",
       "    </tr>\n",
       "    <tr>\n",
       "      <th>227</th>\n",
       "      <td>2024-08-15</td>\n",
       "      <td>58733.261719</td>\n",
       "      <td>59838.648438</td>\n",
       "      <td>56161.593750</td>\n",
       "      <td>57560.097656</td>\n",
       "      <td>57560.097656</td>\n",
       "      <td>35682112440</td>\n",
       "      <td>58733.261719</td>\n",
       "      <td>59838.648438</td>\n",
       "      <td>56161.593750</td>\n",
       "      <td>...</td>\n",
       "      <td>56161.593750</td>\n",
       "      <td>57560.097656</td>\n",
       "      <td>57560.097656</td>\n",
       "      <td>35682112440</td>\n",
       "      <td>58733.261719</td>\n",
       "      <td>59838.648438</td>\n",
       "      <td>56161.593750</td>\n",
       "      <td>57560.097656</td>\n",
       "      <td>57560.097656</td>\n",
       "      <td>35682112440</td>\n",
       "    </tr>\n",
       "  </tbody>\n",
       "</table>\n",
       "<p>228 rows × 91 columns</p>\n",
       "</div>"
      ],
      "text/plain": [
       "           Date     (BTC)Open     (BTC)High      (BTC)Low    (BTC)Close  \\\n",
       "0    2024-01-01  42280.234375  44175.437500  42214.976562  44167.332031   \n",
       "1    2024-01-02  44187.140625  45899.707031  44176.949219  44957.968750   \n",
       "2    2024-01-03  44961.601562  45503.242188  40813.535156  42848.175781   \n",
       "3    2024-01-04  42855.816406  44770.023438  42675.175781  44179.921875   \n",
       "4    2024-01-05  44192.980469  44353.285156  42784.718750  44162.691406   \n",
       "..          ...           ...           ...           ...           ...   \n",
       "223  2024-08-11  60944.890625  61778.660156  58348.824219  58719.484375   \n",
       "224  2024-08-12  58719.394531  60680.332031  57688.898438  59354.515625   \n",
       "225  2024-08-13  59356.207031  61572.398438  58506.253906  60609.566406   \n",
       "226  2024-08-14  60611.050781  61687.757812  58472.875000  58737.269531   \n",
       "227  2024-08-15  58733.261719  59838.648438  56161.593750  57560.097656   \n",
       "\n",
       "     (BTC)Adj Close  (BTC)Volume     (ETH)Open     (ETH)High      (ETH)Low  \\\n",
       "0      44167.332031  18426978443  42280.234375  44175.437500  42214.976562   \n",
       "1      44957.968750  39335274536  44187.140625  45899.707031  44176.949219   \n",
       "2      42848.175781  46342323118  44961.601562  45503.242188  40813.535156   \n",
       "3      44179.921875  30448091210  42855.816406  44770.023438  42675.175781   \n",
       "4      44162.691406  32336029347  44192.980469  44353.285156  42784.718750   \n",
       "..              ...          ...           ...           ...           ...   \n",
       "223    58719.484375  22759754812  60944.890625  61778.660156  58348.824219   \n",
       "224    59354.515625  37078637820  58719.394531  60680.332031  57688.898438   \n",
       "225    60609.566406  30327698167  59356.207031  61572.398438  58506.253906   \n",
       "226    58737.269531  29961696180  60611.050781  61687.757812  58472.875000   \n",
       "227    57560.097656  35682112440  58733.261719  59838.648438  56161.593750   \n",
       "\n",
       "     ...     (LINK)Low   (LINK)Close  (LINK)Adj Close  (LINK)Volume  \\\n",
       "0    ...  42214.976562  44167.332031     44167.332031   18426978443   \n",
       "1    ...  44176.949219  44957.968750     44957.968750   39335274536   \n",
       "2    ...  40813.535156  42848.175781     42848.175781   46342323118   \n",
       "3    ...  42675.175781  44179.921875     44179.921875   30448091210   \n",
       "4    ...  42784.718750  44162.691406     44162.691406   32336029347   \n",
       "..   ...           ...           ...              ...           ...   \n",
       "223  ...  58348.824219  58719.484375     58719.484375   22759754812   \n",
       "224  ...  57688.898438  59354.515625     59354.515625   37078637820   \n",
       "225  ...  58506.253906  60609.566406     60609.566406   30327698167   \n",
       "226  ...  58472.875000  58737.269531     58737.269531   29961696180   \n",
       "227  ...  56161.593750  57560.097656     57560.097656   35682112440   \n",
       "\n",
       "       (AVAX)Open    (AVAX)High     (AVAX)Low   (AVAX)Close  (AVAX)Adj Close  \\\n",
       "0    42280.234375  44175.437500  42214.976562  44167.332031     44167.332031   \n",
       "1    44187.140625  45899.707031  44176.949219  44957.968750     44957.968750   \n",
       "2    44961.601562  45503.242188  40813.535156  42848.175781     42848.175781   \n",
       "3    42855.816406  44770.023438  42675.175781  44179.921875     44179.921875   \n",
       "4    44192.980469  44353.285156  42784.718750  44162.691406     44162.691406   \n",
       "..            ...           ...           ...           ...              ...   \n",
       "223  60944.890625  61778.660156  58348.824219  58719.484375     58719.484375   \n",
       "224  58719.394531  60680.332031  57688.898438  59354.515625     59354.515625   \n",
       "225  59356.207031  61572.398438  58506.253906  60609.566406     60609.566406   \n",
       "226  60611.050781  61687.757812  58472.875000  58737.269531     58737.269531   \n",
       "227  58733.261719  59838.648438  56161.593750  57560.097656     57560.097656   \n",
       "\n",
       "     (AVAX)Volume  \n",
       "0     18426978443  \n",
       "1     39335274536  \n",
       "2     46342323118  \n",
       "3     30448091210  \n",
       "4     32336029347  \n",
       "..            ...  \n",
       "223   22759754812  \n",
       "224   37078637820  \n",
       "225   30327698167  \n",
       "226   29961696180  \n",
       "227   35682112440  \n",
       "\n",
       "[228 rows x 91 columns]"
      ]
     },
     "execution_count": 4,
     "metadata": {},
     "output_type": "execute_result"
    }
   ],
   "source": [
    "fixed"
   ]
  },
  {
   "cell_type": "code",
   "execution_count": 5,
   "id": "a6b6ed27",
   "metadata": {},
   "outputs": [
    {
     "data": {
      "text/plain": [
       "<AxesSubplot:xlabel='(BNB)Open', ylabel='(BNB)Volume'>"
      ]
     },
     "execution_count": 5,
     "metadata": {},
     "output_type": "execute_result"
    },
    {
     "data": {
      "image/png": "[encoded data removed]",
      "text/plain": [
       "<Figure size 432x288 with 1 Axes>"
      ]
     },
     "metadata": {
      "needs_background": "light"
     },
     "output_type": "display_data"
    }
   ],
   "source": [
    "fixed.plot(kind=\"scatter\", x=\"(BNB)Open\", y=\"(BNB)Volume\")"
   ]
  },
  {
   "cell_type": "code",
   "execution_count": 7,
   "id": "74b466ba",
   "metadata": {},
   "outputs": [
    {
     "data": {
      "text/plain": [
       "<AxesSubplot:xlabel='(XRP)High', ylabel='(XRP)Volume'>"
      ]
     },
     "execution_count": 7,
     "metadata": {},
     "output_type": "execute_result"
    },
    {
     "data": {
      "image/png": "[encoded data removed]",
      "text/plain": [
       "<Figure size 432x288 with 4 Axes>"
      ]
     },
     "metadata": {
      "needs_background": "light"
     },
     "output_type": "display_data"
    }
   ],
   "source": [
    "figure, axs = plt.subplots(2,2, sharey=True, sharex=True)\n",
    "fixed.plot(kind=\"scatter\", x=\"(DOT)High\", y =\"(DOT)Volume\", ax=axs[0][0])\n",
    "fixed.plot(kind=\"scatter\", x=\"(BNB)High\", y=\"(BNB)Volume\", ax=axs[0][1])\n",
    "fixed.plot(kind=\"scatter\", x=\"(ADA)High\", y =\"(ADA)Volume\", ax=axs[1][0])\n",
    "fixed.plot(kind=\"scatter\", x=\"(XRP)High\", y=\"(XRP)Volume\", ax=axs[1][1])"
   ]
  },
  {
   "cell_type": "code",
   "execution_count": 8,
   "id": "e94c5855",
   "metadata": {},
   "outputs": [
    {
     "data": {
      "text/plain": [
       "<AxesSubplot:xlabel='(ETH)Open', ylabel='(ETH)Volume'>"
      ]
     },
     "execution_count": 8,
     "metadata": {},
     "output_type": "execute_result"
    },
    {
     "data": {
      "image/png": "[encoded data removed]",
      "text/plain": [
       "<Figure size 432x288 with 1 Axes>"
      ]
     },
     "metadata": {
      "needs_background": "light"
     },
     "output_type": "display_data"
    }
   ],
   "source": [
    "fixed.plot(kind=\"scatter\",x=\"(ETH)Open\", y=\"(ETH)Volume\")"
   ]
  },
  {
   "cell_type": "code",
   "execution_count": 9,
   "id": "39aa48b7",
   "metadata": {},
   "outputs": [
    {
     "data": {
      "text/plain": [
       "Text(0.5, 1.0, '')"
      ]
     },
     "execution_count": 9,
     "metadata": {},
     "output_type": "execute_result"
    },
    {
     "data": {
      "image/png": "[encoded data removed]",
      "text/plain": [
       "<Figure size 432x288 with 1 Axes>"
      ]
     },
     "metadata": {
      "needs_background": "light"
     },
     "output_type": "display_data"
    }
   ],
   "source": [
    "k = int(np.ceil(1+np.log2(3333)))\n",
    "plt.hist(fixed[\"(BTC)Open\"], bins = k) #bins = [0,30,60,...,200]\n",
    "plt.xlabel(\"\")\n",
    "plt.ylabel(\"Frecuencia\")\n",
    "plt.title(\"\")"
   ]
  },
  {
   "cell_type": "code",
   "execution_count": 10,
   "id": "cef7c6f6",
   "metadata": {},
   "outputs": [
    {
     "data": {
      "text/plain": [
       "Text(0.5, 1.0, '')"
      ]
     },
     "execution_count": 10,
     "metadata": {},
     "output_type": "execute_result"
    },
    {
     "data": {
      "image/png": "[encoded data removed]",
      "text/plain": [
       "<Figure size 432x288 with 1 Axes>"
      ]
     },
     "metadata": {
      "needs_background": "light"
     },
     "output_type": "display_data"
    }
   ],
   "source": [
    "plt.boxplot(fixed[\"(BTC)Open\"])\n",
    "plt.ylabel(\"\")\n",
    "plt.title(\"\")"
   ]
  },
  {
   "cell_type": "code",
   "execution_count": 13,
   "id": "34fdd254",
   "metadata": {},
   "outputs": [
    {
     "data": {
      "text/plain": [
       "count      228.000000\n",
       "mean     59968.810804\n",
       "std       9415.448229\n",
       "min      39518.714844\n",
       "25%      53561.894531\n",
       "50%      63168.056641\n",
       "75%      67255.914062\n",
       "max      73079.375000\n",
       "Name: (BTC)Open, dtype: float64"
      ]
     },
     "execution_count": 13,
     "metadata": {},
     "output_type": "execute_result"
    }
   ],
   "source": [
    "fixed[\"(BTC)Open\"].describe()"
   ]
  },
  {
   "cell_type": "code",
   "execution_count": null,
   "id": "a657e570",
   "metadata": {},
   "outputs": [],
   "source": []
  }
 ],
 "metadata": {
  "kernelspec": {
   "display_name": "Python 3 (ipykernel)",
   "language": "python",
   "name": "python3"
  },
  "language_info": {
   "codemirror_mode": {
    "name": "ipython",
    "version": 3
   },
   "file_extension": ".py",
   "mimetype": "text/x-python",
   "name": "python",
   "nbconvert_exporter": "python",
   "pygments_lexer": "ipython3",
   "version": "3.9.7"
  }
 },
 "nbformat": 4,
 "nbformat_minor": 5
}
