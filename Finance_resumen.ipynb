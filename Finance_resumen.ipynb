{
  "cells": [
    {
      "cell_type": "markdown",
      "metadata": {
        "id": "view-in-github",
        "colab_type": "text"
      },
      "source": [
        "<a href=\"https://colab.research.google.com/github/CODING-racer/criptobot/blob/main/Finance_resumen.ipynb\" target=\"_parent\"><img src=\"https://colab.research.google.com/assets/colab-badge.svg\" alt=\"Open In Colab\"/></a>"
      ]
    },
    {
      "cell_type": "markdown",
      "id": "0339565f",
      "metadata": {
        "id": "0339565f"
      },
      "source": [
        "##### Cálculo del valor presente a partir del valor futuro"
      ]
    },
    {
      "cell_type": "code",
      "execution_count": null,
      "id": "bf7a97e6",
      "metadata": {
        "colab": {
          "base_uri": "https://localhost:8080/"
        },
        "id": "bf7a97e6",
        "outputId": "8a0096cc-19a5-4ef4-d779-d451b82be6b0"
      },
      "outputs": [
        {
          "output_type": "stream",
          "name": "stdout",
          "text": [
            "Requirement already satisfied: numpy_financial in /usr/local/lib/python3.10/dist-packages (1.0.0)\n",
            "Requirement already satisfied: numpy>=1.15 in /usr/local/lib/python3.10/dist-packages (from numpy_financial) (1.25.2)\n"
          ]
        }
      ],
      "source": [
        "pip install numpy_financial"
      ]
    },
    {
      "cell_type": "code",
      "execution_count": null,
      "id": "8e421086",
      "metadata": {
        "id": "8e421086"
      },
      "outputs": [],
      "source": [
        "import numpy_financial as npf\n",
        "import numpy as np\n",
        "import matplotlib.pyplot as plt"
      ]
    },
    {
      "cell_type": "code",
      "execution_count": null,
      "id": "aa08ba10",
      "metadata": {
        "id": "aa08ba10"
      },
      "outputs": [],
      "source": [
        "vf = 10000\n",
        "i = 0.10\n",
        "nper = 3"
      ]
    },
    {
      "cell_type": "code",
      "execution_count": null,
      "id": "ad4458e9",
      "metadata": {
        "colab": {
          "base_uri": "https://localhost:8080/"
        },
        "id": "ad4458e9",
        "outputId": "7b9dd9cb-8c81-4f2b-c4a3-1940ad879776"
      },
      "outputs": [
        {
          "output_type": "execute_result",
          "data": {
            "text/plain": [
              "7513.148009015776"
            ]
          },
          "metadata": {},
          "execution_count": 21
        }
      ],
      "source": [
        "vp = vf / ((1 + i)**nper)\n",
        "vp"
      ]
    },
    {
      "cell_type": "code",
      "execution_count": null,
      "id": "40c90cc6",
      "metadata": {
        "colab": {
          "base_uri": "https://localhost:8080/"
        },
        "id": "40c90cc6",
        "outputId": "d125f42c-19ea-4e1b-adfe-0c47e9f122e6"
      },
      "outputs": [
        {
          "output_type": "execute_result",
          "data": {
            "text/plain": [
              "7513.15"
            ]
          },
          "metadata": {},
          "execution_count": 22
        }
      ],
      "source": [
        "vp_r = round(vp, 2)\n",
        "vp_r"
      ]
    },
    {
      "cell_type": "code",
      "execution_count": null,
      "id": "9b018b54",
      "metadata": {
        "colab": {
          "base_uri": "https://localhost:8080/"
        },
        "id": "9b018b54",
        "outputId": "ab7be79a-9dc6-4930-f975-1f9998886cbb"
      },
      "outputs": [
        {
          "output_type": "stream",
          "name": "stdout",
          "text": [
            "El valor presente para alcanzar 10000 en 3 años con una tasa del 0.1 es 7513.15\n"
          ]
        }
      ],
      "source": [
        "print(f\"El valor presente para alcanzar {vf} en {nper} años con una tasa del {i}\\\n",
        " es {vp_r}\")"
      ]
    },
    {
      "cell_type": "code",
      "execution_count": null,
      "id": "2d331a86",
      "metadata": {
        "id": "2d331a86"
      },
      "outputs": [],
      "source": []
    },
    {
      "cell_type": "code",
      "execution_count": null,
      "id": "bdbf1b0a",
      "metadata": {
        "id": "bdbf1b0a"
      },
      "outputs": [],
      "source": [
        "import numpy_financial as npf"
      ]
    },
    {
      "cell_type": "markdown",
      "id": "f8e40291",
      "metadata": {
        "id": "f8e40291"
      },
      "source": [
        "##### Cálculo del valor futuro de una inversión"
      ]
    },
    {
      "cell_type": "code",
      "execution_count": null,
      "id": "b9f6e573",
      "metadata": {
        "id": "b9f6e573"
      },
      "outputs": [],
      "source": []
    },
    {
      "cell_type": "code",
      "execution_count": null,
      "id": "92ad7972",
      "metadata": {
        "colab": {
          "base_uri": "https://localhost:8080/"
        },
        "id": "92ad7972",
        "outputId": "606f4d9a-1012-463d-e9cc-01d7e2389829"
      },
      "outputs": [
        {
          "output_type": "execute_result",
          "data": {
            "text/plain": [
              "176234.17"
            ]
          },
          "metadata": {},
          "execution_count": 16
        }
      ],
      "source": [
        "rate = .12                       # Tasa del 12% anual (Capitalizaciones anuales)\n",
        "periods = 5                              # A diferentes años de plazo\n",
        "pmt = 0\n",
        "pv = 100000\n",
        "\n",
        "npf.fv(rate, periods, -pmt, -pv).round(2)"
      ]
    },
    {
      "cell_type": "markdown",
      "id": "0ffe1d72",
      "metadata": {
        "id": "0ffe1d72"
      },
      "source": [
        "##### Cálculo del valor futuro de una inversión con aportaciones periodicas"
      ]
    },
    {
      "cell_type": "code",
      "execution_count": null,
      "id": "f155aaa9",
      "metadata": {
        "id": "f155aaa9"
      },
      "outputs": [],
      "source": [
        "rate = .12                        # Tasa del 12% anual (Capitalizaciones anuales)\n",
        "periods = 5                              # A diferentes años de plazo\n",
        "pmt = 500\n",
        "pv = 100000\n",
        "\n",
        "npf.fv(rate, periods, -pmt, -pv).round(2)"
      ]
    },
    {
      "cell_type": "code",
      "execution_count": null,
      "id": "56d7c4d4",
      "metadata": {
        "id": "56d7c4d4"
      },
      "outputs": [],
      "source": [
        "print(f\"$ {npf.fv (rate, periods, -pmt, -pv):,.2f}\")"
      ]
    },
    {
      "cell_type": "code",
      "execution_count": null,
      "id": "4d9a5979",
      "metadata": {
        "id": "4d9a5979"
      },
      "outputs": [],
      "source": []
    },
    {
      "cell_type": "code",
      "execution_count": null,
      "id": "0ca72c76",
      "metadata": {
        "id": "0ca72c76"
      },
      "outputs": [],
      "source": [
        "import numpy_financial as npf"
      ]
    },
    {
      "cell_type": "code",
      "execution_count": null,
      "id": "8b2d61fd",
      "metadata": {
        "id": "8b2d61fd"
      },
      "outputs": [],
      "source": [
        "p = 36\n",
        "rate = .10/12                            # Capitalizaciones mensuales\n",
        "pmt = 0\n",
        "pv = 10000\n",
        "\n",
        "npf.fv(rate,p,-pmt,-pv).round(2)"
      ]
    },
    {
      "cell_type": "code",
      "execution_count": null,
      "id": "0148de05",
      "metadata": {
        "id": "0148de05"
      },
      "outputs": [],
      "source": [
        "import numpy as np"
      ]
    },
    {
      "cell_type": "code",
      "execution_count": null,
      "id": "236c9c0d",
      "metadata": {
        "id": "236c9c0d"
      },
      "outputs": [],
      "source": [
        "a = np.array((.10, .12, .15, .20))/ 12       # Tasas anuales capitaliz. mensualmente\n",
        "npf.fv(a , p, -pmt,-pv).round(2)"
      ]
    },
    {
      "cell_type": "code",
      "execution_count": null,
      "id": "7c7097b7",
      "metadata": {
        "id": "7c7097b7"
      },
      "outputs": [],
      "source": []
    },
    {
      "cell_type": "code",
      "execution_count": null,
      "id": "ff8ced5e",
      "metadata": {
        "id": "ff8ced5e"
      },
      "outputs": [],
      "source": [
        "import numpy_financial as npf\n",
        "import numpy as np"
      ]
    },
    {
      "cell_type": "markdown",
      "id": "4cd9a76b",
      "metadata": {
        "id": "4cd9a76b"
      },
      "source": [
        "##### Valor Presente de pagos futuros"
      ]
    },
    {
      "cell_type": "code",
      "execution_count": null,
      "id": "4c91e161",
      "metadata": {
        "id": "4c91e161"
      },
      "outputs": [],
      "source": [
        "rate = .12\n",
        "cashflows = 100000\n",
        "P = range(1, 6)"
      ]
    },
    {
      "cell_type": "code",
      "execution_count": null,
      "id": "62b2e03e",
      "metadata": {
        "id": "62b2e03e"
      },
      "outputs": [],
      "source": [
        "npf.pv(rate, P, -cashflows).round(2)"
      ]
    },
    {
      "cell_type": "code",
      "execution_count": null,
      "id": "6c5f456a",
      "metadata": {
        "id": "6c5f456a"
      },
      "outputs": [],
      "source": []
    },
    {
      "cell_type": "markdown",
      "id": "b12fffcc",
      "metadata": {
        "id": "b12fffcc"
      },
      "source": [
        "##### Cálculo del Valor Presente Neto"
      ]
    },
    {
      "cell_type": "code",
      "execution_count": null,
      "id": "614b8b44",
      "metadata": {
        "id": "614b8b44"
      },
      "outputs": [],
      "source": [
        "import numpy_financial as npf"
      ]
    },
    {
      "cell_type": "code",
      "execution_count": null,
      "id": "fa008fa5",
      "metadata": {
        "id": "fa008fa5"
      },
      "outputs": [],
      "source": [
        "rate = .10\n",
        "cashflows = [-100000, 100000, 50000, 250000, 100000,-50000]\n",
        "npf.npv(rate,cashflows).round(2)"
      ]
    },
    {
      "cell_type": "code",
      "execution_count": null,
      "id": "4b58909f",
      "metadata": {
        "id": "4b58909f"
      },
      "outputs": [],
      "source": []
    },
    {
      "cell_type": "code",
      "execution_count": null,
      "id": "eaf823c1",
      "metadata": {
        "id": "eaf823c1"
      },
      "outputs": [],
      "source": [
        "rate = .12\n",
        "cashflows = [100000, 100000, 100000, 100000, 100000]\n",
        "npf.npv(rate,cashflows).round(2)"
      ]
    },
    {
      "cell_type": "code",
      "execution_count": null,
      "id": "13dd3106",
      "metadata": {
        "id": "13dd3106"
      },
      "outputs": [],
      "source": []
    },
    {
      "cell_type": "code",
      "execution_count": null,
      "id": "610cac13",
      "metadata": {
        "id": "610cac13"
      },
      "outputs": [],
      "source": [
        "rate = .10\n",
        "cashflow = 100000\n",
        "P = 5\n",
        "npf.pv(rate, P, 0, -cashflow).round(2)       # Con el 0 se va el cálculo a 5 años"
      ]
    },
    {
      "cell_type": "code",
      "execution_count": null,
      "id": "68be92b3",
      "metadata": {
        "id": "68be92b3"
      },
      "outputs": [],
      "source": []
    },
    {
      "cell_type": "code",
      "execution_count": null,
      "id": "a5b514c2",
      "metadata": {
        "id": "a5b514c2"
      },
      "outputs": [],
      "source": [
        "import numpy_financial as npf"
      ]
    },
    {
      "cell_type": "code",
      "execution_count": null,
      "id": "66160361",
      "metadata": {
        "id": "66160361"
      },
      "outputs": [],
      "source": [
        "rate = .10\n",
        "cashflows = [-5500,1500,1500,1500,2000,2500]\n",
        "npv = npf.npv(rate, cashflows).round(2)"
      ]
    },
    {
      "cell_type": "code",
      "execution_count": null,
      "id": "84bc83ca",
      "metadata": {
        "id": "84bc83ca"
      },
      "outputs": [],
      "source": [
        "print(f\" El valor presente neto es:\",npv)\n",
        "print(f\"$ {npf.npv (rate,cashflows):,.2f}\")"
      ]
    },
    {
      "cell_type": "code",
      "execution_count": null,
      "id": "e3df11b8",
      "metadata": {
        "id": "e3df11b8"
      },
      "outputs": [],
      "source": []
    },
    {
      "cell_type": "markdown",
      "id": "884ff292",
      "metadata": {
        "id": "884ff292"
      },
      "source": [
        "##### Tasa interna de retorno"
      ]
    },
    {
      "cell_type": "code",
      "execution_count": null,
      "id": "e55ca679",
      "metadata": {
        "id": "e55ca679"
      },
      "outputs": [],
      "source": [
        "irr = npf.irr(cashflows)                 # irr = internal return rate\n",
        "irr"
      ]
    },
    {
      "cell_type": "code",
      "execution_count": null,
      "id": "7cc866d0",
      "metadata": {
        "id": "7cc866d0"
      },
      "outputs": [],
      "source": []
    },
    {
      "cell_type": "code",
      "execution_count": null,
      "id": "a7fe1928",
      "metadata": {
        "id": "a7fe1928"
      },
      "outputs": [],
      "source": [
        "irr = npf.irr(cashflows)               # Esta es la  forma de obtener la tasa interna\n",
        "irr*100"
      ]
    },
    {
      "cell_type": "code",
      "execution_count": null,
      "id": "78954a6e",
      "metadata": {
        "id": "78954a6e"
      },
      "outputs": [],
      "source": []
    },
    {
      "cell_type": "code",
      "execution_count": null,
      "id": "b788ed87",
      "metadata": {
        "id": "b788ed87"
      },
      "outputs": [],
      "source": [
        "irr = round(irr, 2)\n",
        "irr*100"
      ]
    },
    {
      "cell_type": "code",
      "execution_count": null,
      "id": "94d81e47",
      "metadata": {
        "id": "94d81e47"
      },
      "outputs": [],
      "source": []
    },
    {
      "cell_type": "code",
      "execution_count": null,
      "id": "19766244",
      "metadata": {
        "id": "19766244"
      },
      "outputs": [],
      "source": [
        "import numpy_financial as npf"
      ]
    },
    {
      "cell_type": "code",
      "source": [],
      "metadata": {
        "id": "jvYQpdGTpQ98"
      },
      "id": "jvYQpdGTpQ98",
      "execution_count": null,
      "outputs": []
    },
    {
      "cell_type": "code",
      "execution_count": null,
      "id": "5d2b12d5",
      "metadata": {
        "id": "5d2b12d5"
      },
      "outputs": [],
      "source": [
        " Loan = 50000\n",
        " meses = 60\n",
        " rate = .35 / 12"
      ]
    },
    {
      "cell_type": "code",
      "execution_count": null,
      "id": "b5320aaf",
      "metadata": {
        "colab": {
          "base_uri": "https://localhost:8080/"
        },
        "id": "b5320aaf",
        "outputId": "6f565226-d429-445b-ba60-7ed8fd1534b2"
      },
      "outputs": [
        {
          "output_type": "execute_result",
          "data": {
            "text/plain": [
              "1774.52"
            ]
          },
          "metadata": {},
          "execution_count": 9
        }
      ],
      "source": [
        "npf.pmt(0.35/12, 60, -50000).round(2)    # De cuanto son los pagos para amortizar\n",
        "                                          # 100,000 en 36 meses\n",
        "                                          # a una tasa del 10% anual"
      ]
    },
    {
      "cell_type": "code",
      "execution_count": null,
      "id": "d882201c",
      "metadata": {
        "id": "d882201c"
      },
      "outputs": [],
      "source": []
    },
    {
      "cell_type": "markdown",
      "id": "e9992377",
      "metadata": {
        "id": "e9992377"
      },
      "source": [
        "##### Pago de un crédito conociendo  el pago total , pago de capital y pago de intereses"
      ]
    },
    {
      "cell_type": "code",
      "execution_count": null,
      "id": "27411b0d",
      "metadata": {
        "id": "27411b0d"
      },
      "outputs": [],
      "source": [
        "import numpy_financial as npf"
      ]
    },
    {
      "cell_type": "code",
      "execution_count": null,
      "id": "6b61408a",
      "metadata": {
        "id": "6b61408a"
      },
      "outputs": [],
      "source": [
        "pv = 268000\n",
        "rate = .29/12 + .0744/12                     # Ya con el iva de los intereses\n",
        "P = 60"
      ]
    },
    {
      "cell_type": "code",
      "execution_count": null,
      "id": "29d00aec",
      "metadata": {
        "id": "29d00aec"
      },
      "outputs": [],
      "source": [
        "pmt = npf.pmt(rate,P, -pv).round(2)          # (tasa,plazo,- present value)\n",
        "ipmt = npf.ipmt(rate,1, P, -pv).round(2)     # ipmt , el 1 es el mes 1 de interes\n",
        "ppmt = npf.ppmt(rate,1, P, -pv).round(2)     # ppmt , el 1 es el mes 1 de capital\n",
        "\n",
        "print(pmt)\n",
        "print(ipmt)\n",
        "print(ppmt)"
      ]
    },
    {
      "cell_type": "code",
      "execution_count": null,
      "id": "8864b7a8",
      "metadata": {
        "id": "8864b7a8"
      },
      "outputs": [],
      "source": []
    }
  ],
  "metadata": {
    "kernelspec": {
      "display_name": "Python 3 (ipykernel)",
      "language": "python",
      "name": "python3"
    },
    "language_info": {
      "codemirror_mode": {
        "name": "ipython",
        "version": 3
      },
      "file_extension": ".py",
      "mimetype": "text/x-python",
      "name": "python",
      "nbconvert_exporter": "python",
      "pygments_lexer": "ipython3",
      "version": "3.9.7"
    },
    "colab": {
      "provenance": [],
      "include_colab_link": true
    }
  },
  "nbformat": 4,
  "nbformat_minor": 5
}